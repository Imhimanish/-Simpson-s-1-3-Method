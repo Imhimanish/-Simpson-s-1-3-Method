{
  "nbformat": 4,
  "nbformat_minor": 0,
  "metadata": {
    "colab": {
      "provenance": [],
      "authorship_tag": "ABX9TyO758e3OI39xBBNjzsBXb0v",
      "include_colab_link": true
    },
    "kernelspec": {
      "name": "python3",
      "display_name": "Python 3"
    },
    "language_info": {
      "name": "python"
    }
  },
  "cells": [
    {
      "cell_type": "markdown",
      "metadata": {
        "id": "view-in-github",
        "colab_type": "text"
      },
      "source": [
        "<a href=\"https://colab.research.google.com/github/Imhimanish/-Simpson-s-1-3-Method/blob/main/GithubCodes1.ipynb\" target=\"_parent\"><img src=\"https://colab.research.google.com/assets/colab-badge.svg\" alt=\"Open In Colab\"/></a>"
      ]
    },
    {
      "cell_type": "markdown",
      "source": [
        "Simpson,s 1/3 method"
      ],
      "metadata": {
        "id": "jhH9ICSVYu0I"
      }
    },
    {
      "cell_type": "code",
      "source": [
        "import numpy as np\n",
        "def simp(xi,xf,n):\n",
        "  yy=[]\n",
        "  h=(xf-xi)/(n-1)\n",
        "  for i in range(n):\n",
        "    x=xi+(i*h)\n",
        "    y=np.sin(x)\n",
        "    yy.append(y)\n",
        "  s1 = 0\n",
        "  for i in range(1,n-1,2):\n",
        "    s1+=yy[i]\n",
        "  s1=s1*4\n",
        "  s2 = 0\n",
        "  for i in range(2,n-2,2):\n",
        "    s2+=yy[i]\n",
        "  s2=s2*2\n",
        "  s=yy[0]+s1+s2+yy[n-1]\n",
        "  s=(h/3)*s\n",
        "  return s\n",
        "xi=-(np.pi)\n",
        "xf=np.pi\n",
        "n=10\n",
        "for i in range(3,n+1):\n",
        "  print(\"Taking \",i,\"Points the value is-\",simp(xi,xf,i))"
      ],
      "metadata": {
        "colab": {
          "base_uri": "https://localhost:8080/"
        },
        "id": "JHPVvjre6P_P",
        "outputId": "1cfdd294-c898-4bee-e827-ccba5e8b6999"
      },
      "execution_count": 5,
      "outputs": [
        {
          "output_type": "stream",
          "name": "stdout",
          "text": [
            "Taking  3 Points the value is- 0.0\n",
            "Taking  4 Points the value is- -2.4183991523122903\n",
            "Taking  5 Points the value is- 0.0\n",
            "Taking  6 Points the value is- -1.1010886663980415\n",
            "Taking  7 Points the value is- 4.650491330678175e-16\n",
            "Taking  8 Points the value is- -0.6119336540890092\n",
            "Taking  9 Points the value is- 1.1626228326695438e-16\n",
            "Taking  10 Points the value is- -0.38386665769745243\n"
          ]
        }
      ]
    }
  ]
}